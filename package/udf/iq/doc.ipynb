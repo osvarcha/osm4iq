{
 "cells": [
  {
   "cell_type": "markdown",
   "id": "ff61514a-9a44-49cf-aba6-27fca1e5a5e2",
   "metadata": {},
   "source": [
    "# Funciones de IQ"
   ]
  },
  {
   "cell_type": "markdown",
   "id": "ed611a8c-83ed-4b62-b790-2aff6fbd8b63",
   "metadata": {},
   "source": [
    "Estas funciones son necesarias para el complementos IQ como ecuaciones representaras en funciones o funciones para ordenar y demas."
   ]
  },
  {
   "cell_type": "code",
   "execution_count": 1,
   "id": "2884c0d5-c77b-4666-850d-bc6ef1ce00ea",
   "metadata": {
    "tags": []
   },
   "outputs": [],
   "source": [
    "# Librerias a importar\n",
    "from functools import reduce\n",
    "# import sys\n",
    "# sys.setrecursionlimit()\n",
    "# sys.set_int_max_str_digits()"
   ]
  },
  {
   "cell_type": "markdown",
   "id": "f815274c-f531-42b6-b9a0-7e858d77af17",
   "metadata": {
    "tags": []
   },
   "source": [
    "# Funciones anexas"
   ]
  },
  {
   "cell_type": "markdown",
   "id": "f3553688-7c56-4d1c-9dce-fa0a3b73ba25",
   "metadata": {
    "tags": []
   },
   "source": [
    "Son funciones anonimas o funciones para el utilizar dudante todo el complemento"
   ]
  },
  {
   "cell_type": "markdown",
   "id": "74598071-f641-4b72-97d8-1255aa166146",
   "metadata": {
    "tags": []
   },
   "source": [
    "## Encontrar cercanos"
   ]
  },
  {
   "cell_type": "code",
   "execution_count": 2,
   "id": "220d7cf7-58a6-4eab-a20a-663c4c957d39",
   "metadata": {
    "tags": []
   },
   "outputs": [],
   "source": [
    "def indice_mayor_cercano(dato, lista):\n",
    "    \"\"\"Devuelve el indice del dato mayor mas cercano de \n",
    "    una lista ordenada\n",
    "    \"\"\"\n",
    "    mayores = filter(lambda x: x > dato, lista)\n",
    "    if mayores:\n",
    "        return lista.index(next(mayores))\n",
    "    else:\n",
    "        return len(lista) - 1"
   ]
  },
  {
   "cell_type": "markdown",
   "id": "5b101477-f5c3-4a8a-95b2-501ea13ee64d",
   "metadata": {
    "tags": []
   },
   "source": [
    "# Calculos"
   ]
  },
  {
   "cell_type": "markdown",
   "id": "ce9f47a7-3b7c-45e6-b5fe-272028b80ab9",
   "metadata": {
    "tags": []
   },
   "source": [
    "## Ordenar datos"
   ]
  },
  {
   "cell_type": "markdown",
   "id": "85487e2b-6d47-4d08-824c-f2903554e738",
   "metadata": {
    "tags": []
   },
   "source": [
    "Tenemos dos vectores $X$ y $Y$ que representan datos y se ordena el vector $X$ de forma ascendente reordenando el vector $Y$"
   ]
  },
  {
   "cell_type": "code",
   "execution_count": 3,
   "id": "1a01733d-c111-414c-b265-a21637e9b08f",
   "metadata": {
    "tags": []
   },
   "outputs": [],
   "source": [
    "def ordenar_datos(X, Y, ascendente=True):\n",
    "    \"\"\"Ordena de forma ascendente o descendente:\n",
    "    Ordena el vector X de forma ascendente o descendente y al mismo tiempo\n",
    "    reordena el vector Y de acuerdo a la nueva posición de los datos del vector 'X'\n",
    "    \n",
    "    Args:\n",
    "    X (list): Vector de datos x\n",
    "    Y (list): Vector de datos y\n",
    "    ascendente (bool, optional): Si es True, los datos serán ordenados de forma ascendente.\n",
    "    Si es False, los datos serán ordenados de forma descendente. Por defecto es True.\n",
    "    \n",
    "    Returns:\n",
    "    X_ordenado (list): Vector X ordenado\n",
    "    Y_ordenado (list): Vector Y ordenado\n",
    "    \"\"\"\n",
    "    # Creamos una lista de tuplas\n",
    "    datos = list(zip(X,Y))\n",
    "\n",
    "    # Ordenamos la lista por el valor de x\n",
    "    datos_ordenados = sorted(datos, key=lambda t: t[0], reverse=not ascendente)\n",
    "    \n",
    "    # separamos los datos ordenados en dos vectores X_ordenado e Y_ordenado\n",
    "    X_ordenado = list(map(lambda t: t[0], datos_ordenados))\n",
    "    Y_ordenado = list(map(lambda t: t[1], datos_ordenados))\n",
    "    \n",
    "    return X_ordenado, Y_ordenado"
   ]
  },
  {
   "cell_type": "markdown",
   "id": "bd9701da-e451-438d-bd77-a50d3f8635b8",
   "metadata": {
    "tags": []
   },
   "source": [
    "## Interpolación Lineal"
   ]
  },
  {
   "cell_type": "markdown",
   "id": "6a5576db-8fc6-4118-ac42-a77c1ac7f68f",
   "metadata": {},
   "source": [
    "$$\n",
    "y=y_0 + \\frac{y_1-y_0}{x_1-x_0} (x-x_0)\n",
    "$$"
   ]
  },
  {
   "cell_type": "code",
   "execution_count": 4,
   "id": "39a056a8-b556-465f-8be6-4ef9825dcb0c",
   "metadata": {},
   "outputs": [],
   "source": [
    "def inter_lineal(x, X, Y):\n",
    "    \"\"\"Interporlación lineal para hallar el punto x con dos vectores X y Y\n",
    "\n",
    "    El vector 'X' contiene los datos de la variable independiente y el vector\n",
    "    'Y' contiene los datos de la variable dependiente\n",
    "\n",
    "    \"\"\"\n",
    "    \n",
    "    # ORdenamos los datos\n",
    "    X_ordenado, Y_ordenado = ordenar_ascendente(X,Y)\n",
    "    \n",
    "    def eq_int_lineal(x, x_0, y_0, x_1, y_1):\n",
    "        \"\"\"Ecuación de la interpolación lineal simple\n",
    "        \"\"\"\n",
    "        return y_0 + (y_1-y_0)/(x_1-x_0) * (x-x_0)\n",
    "    \n",
    "    # Vemos si \"x\" esta en el vector X\n",
    "    if (lambda x, X: x in X)(x, X):\n",
    "        i = X.index(x)\n",
    "        return Y[i]\n",
    "    \n",
    "    else:\n",
    "        # Si no esta sacamos el indice mayor cercano\n",
    "        i = indice_mayor_cercano(x, X)\n",
    "        # con el indice utilizamos la ecución\n",
    "        y = eq_int_lineal(x, X[i-1], Y[i-1], X[i], Y[i])\n",
    "        return y"
   ]
  },
  {
   "cell_type": "markdown",
   "id": "a0fa5bc9-3550-4318-b4ab-9d45ee75ac4d",
   "metadata": {
    "tags": []
   },
   "source": [
    "## Interpolación de Newton o Diferencias Divididas"
   ]
  },
  {
   "cell_type": "code",
   "execution_count": 5,
   "id": "b2e00224-941a-4c5d-b1dd-c2c04d5694c7",
   "metadata": {
    "tags": []
   },
   "outputs": [],
   "source": [
    "from functools import reduce\n",
    "\n",
    "def inter_polinewton(x, X, Y):\n",
    "    \"\"\"Interporlación mediante el polinomio de Newton por diferencias\n",
    "    divididas\n",
    "    \"\"\"\n",
    "    # ordenando datos\n",
    "    X, Y = ordenar_ascendente(X,Y)\n",
    "    \n",
    "    # Tamaño del vector\n",
    "    n = len(X)\n",
    "    \n",
    "    # Función de diferencia divididas\n",
    "    def diff_div(i, j):\n",
    "        if i == j:\n",
    "            return Y[i]\n",
    "        elif j - i == 1:\n",
    "            return (Y[j] - Y[i]) / (X[j] - X[i])\n",
    "        else:\n",
    "            return (diff_div(i+1, j) - diff_div(i, j-1)) / (X[j] - X[i])\n",
    "\n",
    "    # Calcular las diferencias divididas \n",
    "    diferencias_divididas = list(map(lambda i: diff_div(i, n-1, X, Y), range(n)))\n",
    "\n",
    "    \n",
    "    # Calcular el polinomio de interpolación\n",
    "    def polinomio(i):\n",
    "        \n",
    "        # funciones lambda adicionales para separar los cálculos\n",
    "        x_minus_X = lambda k: x - X[k]\n",
    "        multiplicacion_terminos = lambda lista: reduce(lambda a, b: a*b, lista)\n",
    "        \n",
    "        terminos = list(\n",
    "            map(lambda j: diferencias_divididas[j] if j == 0 else\n",
    "                multiplicacion_terminos(list(map(x_minus_X, range(j)))) * diferencias_divididas[j],\n",
    "                range(i+1))\n",
    "        )\n",
    "        \n",
    "        return reduce(lambda a, b: a+b, terminos)\n",
    "    \n",
    "    return polinomio(n-1)"
   ]
  },
  {
   "cell_type": "markdown",
   "id": "78c4e3b5-86f6-4147-a5fb-62d2c59cac72",
   "metadata": {
    "tags": []
   },
   "source": [
    "## Interpolación de lagrange"
   ]
  },
  {
   "cell_type": "code",
   "execution_count": null,
   "id": "a07f39a8-af87-4fb9-92d1-626d700d589f",
   "metadata": {},
   "outputs": [],
   "source": []
  },
  {
   "cell_type": "code",
   "execution_count": 31,
   "id": "9293d232-d30c-4908-8a8d-52902e25988e",
   "metadata": {
    "tags": []
   },
   "outputs": [
    {
     "data": {
      "text/plain": [
       "4"
      ]
     },
     "execution_count": 31,
     "metadata": {},
     "output_type": "execute_result"
    }
   ],
   "source": [
    "A = [1,2,5,6,6]\n",
    "\n",
    "len(A) - 1"
   ]
  },
  {
   "cell_type": "code",
   "execution_count": 24,
   "id": "7d12dda0-3f29-4e71-8682-df688a928378",
   "metadata": {
    "tags": []
   },
   "outputs": [
    {
     "name": "stdout",
     "output_type": "stream",
     "text": [
      "[5, 6, 6]\n"
     ]
    }
   ],
   "source": [
    "lista = [1,2,5,6,12]\n",
    "dato = 3\n",
    "mayores = list(filter(lambda x: x > dato, A))\n",
    "print(mayores)"
   ]
  },
  {
   "cell_type": "code",
   "execution_count": 37,
   "id": "9f59ce53-113d-4e93-a105-033e12c65b7e",
   "metadata": {
    "tags": []
   },
   "outputs": [
    {
     "data": {
      "text/plain": [
       "[1, 2, 3, 4, 5, 6, 7, 8, 9, 10]"
      ]
     },
     "execution_count": 37,
     "metadata": {},
     "output_type": "execute_result"
    }
   ],
   "source": [
    "list(range(1,11))"
   ]
  },
  {
   "cell_type": "code",
   "execution_count": null,
   "id": "d1890978-45f9-4e47-8e04-a6f105517bca",
   "metadata": {},
   "outputs": [],
   "source": [
    "from functools import reduce\n"
   ]
  }
 ],
 "metadata": {
  "kernelspec": {
   "display_name": "Python 3 (ipykernel)",
   "language": "python",
   "name": "python3"
  },
  "language_info": {
   "codemirror_mode": {
    "name": "ipython",
    "version": 3
   },
   "file_extension": ".py",
   "mimetype": "text/x-python",
   "name": "python",
   "nbconvert_exporter": "python",
   "pygments_lexer": "ipython3",
   "version": "3.11.0"
  },
  "toc-autonumbering": false,
  "toc-showcode": false,
  "toc-showmarkdowntxt": false,
  "toc-showtags": false
 },
 "nbformat": 4,
 "nbformat_minor": 5
}
